{
  "nbformat": 4,
  "nbformat_minor": 0,
  "metadata": {
    "colab": {
      "provenance": []
    },
    "kernelspec": {
      "name": "python3",
      "display_name": "Python 3"
    },
    "language_info": {
      "name": "python"
    }
  },
  "cells": [
    {
      "cell_type": "code",
      "execution_count": null,
      "metadata": {
        "id": "YRolsDtxFA4J"
      },
      "outputs": [],
      "source": [
        "import random\n",
        "options =['scissor','paper','rock']\n",
        "\n",
        "a = input('put your choice: ')\n",
        "\n",
        "b = random.choice(options)\n",
        "print(f\"computer choice is: {b}\")\n",
        "print(f\"your choice is: {a}\")\n",
        "\n",
        "while a not in options:\n",
        "  a=input('put again your valid name:')\n",
        "while a in options:\n",
        "  if a==b:\n",
        "    print(\"it is tie\")\n",
        "  elif a==\"rock\" and b==\"scissor\":\n",
        "   print(\"well done, you win\")\n",
        "  elif a==\"scissor\" and b==\"paper\":\n",
        "   print(\"well done, you win\")\n",
        "  elif a== \"paper\" and b==\"rock\":\n",
        "   print(\"well done, you win\")\n",
        "  else:\n",
        "    print(\"you lose\")\n",
        "  break\n"
      ]
    }
  ]
}